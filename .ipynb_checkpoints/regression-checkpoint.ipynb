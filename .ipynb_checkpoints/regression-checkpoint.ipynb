{
 "cells": [
  {
   "cell_type": "code",
   "execution_count": null,
   "metadata": {
    "collapsed": true
   },
   "outputs": [],
   "source": [
    "library(MASS)\n",
    "library(ISLR)\n",
    "### Simple linear regression\n",
    "names(Boston)\n",
    "plot(medv~lstat,Boston)"
   ]
  },
  {
   "cell_type": "code",
   "execution_count": null,
   "metadata": {
    "collapsed": true
   },
   "outputs": [],
   "source": [
    "fit1=lm(medv~lstat,data=Boston)\n",
    "fit1"
   ]
  },
  {
   "cell_type": "code",
   "execution_count": null,
   "metadata": {
    "collapsed": true
   },
   "outputs": [],
   "source": [
    "summary(fit1)"
   ]
  },
  {
   "cell_type": "code",
   "execution_count": null,
   "metadata": {
    "collapsed": true
   },
   "outputs": [],
   "source": [
    "abline(fit1,col=\"red\")"
   ]
  },
  {
   "cell_type": "code",
   "execution_count": null,
   "metadata": {
    "collapsed": true
   },
   "outputs": [],
   "source": [
    "names(fit1)"
   ]
  },
  {
   "cell_type": "code",
   "execution_count": null,
   "metadata": {
    "collapsed": true
   },
   "outputs": [],
   "source": [
    "confint(fit1)"
   ]
  },
  {
   "cell_type": "code",
   "execution_count": null,
   "metadata": {
    "collapsed": true
   },
   "outputs": [],
   "source": [
    "predict(fit1,data.frame(lstat=c(5,10,15)),interval=\"confidence\")"
   ]
  },
  {
   "cell_type": "code",
   "execution_count": null,
   "metadata": {
    "collapsed": true
   },
   "outputs": [],
   "source": [
    "### Multiple linear regression\n",
    "fit2=lm(medv~lstat+age,data=Boston)\n",
    "summary(fit2)"
   ]
  },
  {
   "cell_type": "code",
   "execution_count": null,
   "metadata": {
    "collapsed": true
   },
   "outputs": [],
   "source": [
    "fit3=lm(medv~.,Boston)\n",
    "summary(fit3)"
   ]
  },
  {
   "cell_type": "code",
   "execution_count": null,
   "metadata": {
    "collapsed": true
   },
   "outputs": [],
   "source": [
    "par(mfrow=c(2,2))\n",
    "plot(fit3)\n",
    "fit4=update(fit3,~.-age-indus)\n",
    "summary(fit4)"
   ]
  },
  {
   "cell_type": "code",
   "execution_count": null,
   "metadata": {
    "collapsed": true
   },
   "outputs": [],
   "source": [
    "### Nonlinear terms and Interactions\n",
    "fit5=lm(medv~lstat*age,Boston)\n",
    "summary(fit5)"
   ]
  },
  {
   "cell_type": "code",
   "execution_count": null,
   "metadata": {
    "collapsed": true
   },
   "outputs": [],
   "source": [
    "fit6=lm(medv~lstat +I(lstat^2),Boston); summary(fit6)\n",
    "attach(Boston)\n",
    "par(mfrow=c(1,1))\n",
    "plot(medv~lstat)\n",
    "points(lstat,fitted(fit6),col=\"red\",pch=20)"
   ]
  },
  {
   "cell_type": "code",
   "execution_count": null,
   "metadata": {
    "collapsed": true
   },
   "outputs": [],
   "source": [
    "fit7=lm(medv~poly(lstat,4))\n",
    "points(lstat,fitted(fit7),col=\"blue\",pch=20)\n",
    "plot(1:20,1:20,pch=1:20,cex=2)"
   ]
  },
  {
   "cell_type": "code",
   "execution_count": null,
   "metadata": {
    "collapsed": true
   },
   "outputs": [],
   "source": [
    "###Qualitative predictors\n",
    "fix(Carseats)\n",
    "names(Carseats)\n",
    "summary(Carseats)"
   ]
  },
  {
   "cell_type": "code",
   "execution_count": null,
   "metadata": {
    "collapsed": true
   },
   "outputs": [],
   "source": [
    "fit1=lm(Sales~.+Income:Advertising+Age:Price,Carseats)\n",
    "summary(fit1)"
   ]
  },
  {
   "cell_type": "code",
   "execution_count": null,
   "metadata": {
    "collapsed": true
   },
   "outputs": [],
   "source": [
    "contrasts(Carseats$ShelveLoc)"
   ]
  },
  {
   "cell_type": "code",
   "execution_count": null,
   "metadata": {
    "collapsed": true
   },
   "outputs": [],
   "source": [
    "###Writing R functions\n",
    "regplot=function(x,y){\n",
    "  fit=lm(y~x)\n",
    "  plot(x,y)\n",
    "  abline(fit,col=\"red\")\n",
    "}\n",
    "attach(Carseats)\n",
    "regplot(Price,Sales)\n",
    "regplot=function(x,y,...){\n",
    "  fit=lm(y~x)\n",
    "  plot(x,y,...)\n",
    "  abline(fit,col=\"red\")\n",
    "}\n",
    "regplot(Price,Sales,xlab=\"Price\",ylab=\"Sales\",col=\"blue\",pch=20)"
   ]
  }
 ],
 "metadata": {
  "kernelspec": {
   "display_name": "R",
   "language": "R",
   "name": "ir"
  },
  "language_info": {
   "codemirror_mode": "r",
   "file_extension": ".r",
   "mimetype": "text/x-r-source",
   "name": "R",
   "pygments_lexer": "r",
   "version": "3.3.1"
  }
 },
 "nbformat": 4,
 "nbformat_minor": 0
}
